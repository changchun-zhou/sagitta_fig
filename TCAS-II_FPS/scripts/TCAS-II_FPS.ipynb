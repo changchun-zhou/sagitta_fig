{
 "cells": [
  {
   "cell_type": "code",
   "execution_count": 9,
   "metadata": {},
   "outputs": [
    {
     "data": {
      "image/png": "[encoded data removed]",
      "text/plain": [
       "<Figure size 504x180 with 1 Axes>"
      ]
     },
     "metadata": {
      "needs_background": "light"
     },
     "output_type": "display_data"
    }
   ],
   "source": [
    "# FPS_Performance_Eval\n",
    "\n",
    "import numpy as np\n",
    "import pandas as pd\n",
    "import matplotlib.pyplot as plt\n",
    "import sys\n",
    "sys.path.append('../../Nebula/scripts/')\n",
    "from cls_plt_fig import cls_plt_fig\n",
    "\n",
    "np.save(\"../source/perf.npy\", np.ones([2, 2, 2, 2, 7]))\n",
    "\n",
    "fig_name ='../generate/FPS_Performance_Eval.svg'\n",
    "perf = np.load(\"../source/perf.npy\")\n",
    "\n",
    "pick = [[0, 0, 0, 0], [0, 0, 0, 1]]\n",
    "legend = []\n",
    "y_value =[]\n",
    "for i in range(len(pick)):\n",
    "    y_value.append(perf[pick[i][0]][pick[i][1]][pick[i][2]][pick[i][3]])\n",
    "    legend_item = 'PredNumBlock: ' + str(2**(pick[i][0] + 1)) + \\\n",
    "                  'PredSpFactor: ' + str(2**(pick[i][1] + 1)) + \\\n",
    "                  'PredNumStrem: ' + str(2**(pick[i][2] + 1)) + \\\n",
    "                  'PartNumStrem: ' + str(2**(pick[i][3] + 1))\n",
    "                    # 'PredNumBlock: '\n",
    "                    # 'PredSpFactor: '\n",
    "                    # 'PredNumStrem: '\n",
    "                    # 'PartNumStrem: '\n",
    "    legend.append(legend_item)\n",
    "y_value = np.array(y_value)\n",
    "x_value = np.arange(7)\n",
    "\n",
    "figsize=(7,2.5)\n",
    "\n",
    "bar_width = 0.25\n",
    "xticks = ['MAE', 'MDist', 'PredLat', 'PartLat', 'AllLat', 'Complexit', 'MaxCore']\n",
    "legend_loc = (0.03, 0.73)\n",
    "\n",
    "y_value = [y_value]\n",
    "y_label = [\"Evaluation Matrix\"]\n",
    "y_fig_type = [['plot' for i in range(len(legend))]]\n",
    "y_legend = [legend]\n",
    "legend_ncol = 1 # (0/255, 77/255, 144/255),(1,1,1)], [(220/255, 103/255, 103/255)\n",
    "y_color=[[(0, 128/256, 0),(0/255, 77/255, 144/255), (214/255, 73/255, 73/255), (0, 0, 0), (191/256,191/256, 0),(191/256, 0, 191/256),(0, 191/256, 191/256),\n",
    "          (1, 0, 0), (0, 128/256, 0),(0, 0, 1),(0, 0, 0), (191/256,191/256, 0),(191/256, 0, 191/256),(0, 191/256, 191/256)]]\n",
    "len_yticks = [8, 10]\n",
    "y_yticks_max = [2, 100]\n",
    "cls_plt_fig('').func_plt_fig(\n",
    "    fig_name=fig_name,\n",
    "    x_value=x_value,\n",
    "    x_label = \"Block ID\",\n",
    "    y_label = y_label,\n",
    "    y_value = y_value,\n",
    "    y_fig_type = y_fig_type,\n",
    "    y_legend = y_legend,\n",
    "    y_color = y_color,\n",
    "    y_axis_color = [(0, 0, 0), (214/255, 73/255, 73/255)],\n",
    "    y_yticks_max=y_yticks_max,\n",
    "    y_yticks_min=[0, 0],\n",
    "    y_edgecolor = [[(97/255, 169/255, 218/255), (97/255, 169/255, 218/255)],[]],\n",
    "    y_hatch = [['/////', None],[None, None]],\n",
    "    y_linestyle = [['dashed','solid','solid','solid','solid','solid','solid',\n",
    "                    'dashed','dashed','dashed','dashed','dashed','dashed','dashed']],\n",
    "    y_marker = [['v', 's', '*']],\n",
    "    y_markersize=[[10,7,15]],\n",
    "    y_markeredgewidth=0.5,\n",
    "    len_yticks=len_yticks,\n",
    "    xticks= xticks,\n",
    "    legend_loc =legend_loc,\n",
    "    figsize=figsize, #[0, 0, 1, 1],\n",
    "    font_size = 10,\n",
    "    plt_text = False,\n",
    "    legend_ncol=legend_ncol,\n",
    "    bar_width = bar_width,\n",
    "    linewidth= 1,\n",
    "    bar_gap_width = 0.1,\n",
    "    border_width = 0.2\n",
    ")"
   ]
  },
  {
   "cell_type": "code",
   "execution_count": null,
   "metadata": {},
   "outputs": [],
   "source": []
  }
 ],
 "metadata": {
  "kernelspec": {
   "display_name": "Python 3",
   "language": "python",
   "name": "python3"
  },
  "language_info": {
   "codemirror_mode": {
    "name": "ipython",
    "version": 3
   },
   "file_extension": ".py",
   "mimetype": "text/x-python",
   "name": "python",
   "nbconvert_exporter": "python",
   "pygments_lexer": "ipython3",
   "version": "3.6.5"
  },
  "orig_nbformat": 4
 },
 "nbformat": 4,
 "nbformat_minor": 2
}
